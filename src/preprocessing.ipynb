{
 "cells": [
  {
   "cell_type": "markdown",
   "metadata": {},
   "source": [
    "# Wrangling and Preprocessing Code\n",
    "### DSCI 522 Group 313 "
   ]
  },
  {
   "cell_type": "code",
   "execution_count": 3,
   "metadata": {},
   "outputs": [],
   "source": [
    "import pandas as pd\n",
    "import numpy as np\n",
    "from sklearn import datasets\n",
    "from sklearn.model_selection import train_test_split\n",
    "from sklearn.compose import ColumnTransformer\n",
    "from sklearn.preprocessing import OneHotEncoder, StandardScaler"
   ]
  },
  {
   "cell_type": "code",
   "execution_count": 4,
   "metadata": {},
   "outputs": [],
   "source": [
    "file = pd.read_csv(\"../data/raw_quebec_city_airbnb_data.csv\")"
   ]
  },
  {
   "cell_type": "code",
   "execution_count": 5,
   "metadata": {},
   "outputs": [],
   "source": [
    "#dropping columns where all values are null and/or columns that are in French\n",
    "quebec_df = file.drop(columns = ['summary', 'space', 'listing_url', 'host_url', 'description', 'scrape_id', 'last_scraped', 'experiences_offered','thumbnail_url', 'medium_url', 'xl_picture_url', 'host_acceptance_rate', 'name', 'neighbourhood', 'neighborhood_overview', 'neighbourhood_group_cleansed', 'host_neighbourhood', 'jurisdiction_names', 'license', 'cancellation_policy', 'notes', 'transit', 'access', 'interaction', 'house_rules', 'picture_url', 'host_about', 'host_thumbnail_url', 'host_total_listings_count', 'minimum_minimum_nights', 'minimum_maximum_nights', 'maximum_maximum_nights', 'maximum_minimum_nights', 'minimum_nights_avg_ntm', 'maximum_nights_avg_ntm', 'host_picture_url', 'host_name', 'host_since', 'host_location', 'host_verifications', 'state', 'street', 'market', 'smart_location', 'country_code', 'country','amenities', 'calendar_updated', 'calendar_last_scraped', 'first_review', 'last_review', 'square_feet', 'weekly_price', 'monthly_price', 'security_deposit', 'cleaning_fee', 'zipcode', 'id', 'host_id', 'neighbourhood_cleansed', 'city'])\n",
    "\n",
    "#dropping all NaN-containing rows\n",
    "quebec_df = quebec_df.dropna()"
   ]
  },
  {
   "cell_type": "code",
   "execution_count": 6,
   "metadata": {},
   "outputs": [],
   "source": [
    "#making sure there are no missing values and dataframe has the correct dimensions\n",
    "assert quebec_df.columns[quebec_df.isna().any()].tolist() == [], \"There are still missing values\"\n",
    "assert quebec_df.shape[0] == 2194, \"Wrong number of rows\"\n",
    "assert quebec_df.shape[1] == 45, \"Wrong number of columns\""
   ]
  },
  {
   "cell_type": "code",
   "execution_count": 7,
   "metadata": {},
   "outputs": [],
   "source": [
    "#removing '$' from price and fees and converting string to float\n",
    "quebec_df.price = quebec_df.price.replace('[\\$,]', '', regex=True).astype(float)\n",
    "quebec_df.extra_people = quebec_df.extra_people.replace('[\\$,]', '', regex=True).astype(float)"
   ]
  },
  {
   "cell_type": "code",
   "execution_count": 8,
   "metadata": {},
   "outputs": [],
   "source": [
    "#changing response rate from string to numeric and removing '%' sign\n",
    "quebec_df.host_response_rate = quebec_df['host_response_rate'].str.rstrip('%').astype('float')"
   ]
  },
  {
   "cell_type": "code",
   "execution_count": 9,
   "metadata": {},
   "outputs": [],
   "source": [
    "#changing booleans 'True' and 'False' to 1 and 0\n",
    "quebec_df.host_is_superhost = quebec_df.host_is_superhost.replace({True: 1, False: 0})\n",
    "quebec_df.host_has_profile_pic = quebec_df.host_has_profile_pic.replace({True: 1, False: 0})\n",
    "quebec_df.host_identity_verified = quebec_df.host_identity_verified.replace({True: 1, False: 0})\n",
    "quebec_df.is_location_exact = quebec_df.is_location_exact.replace({True: 1, False: 0})\n",
    "quebec_df.has_availability = quebec_df.has_availability.replace({True: 1, False: 0})\n",
    "quebec_df.requires_license = quebec_df.requires_license.replace({True: 1, False: 0})\n",
    "quebec_df.instant_bookable = quebec_df.instant_bookable.replace({True: 1, False: 0})\n",
    "quebec_df.is_business_travel_ready = quebec_df.is_business_travel_ready.replace({True: 1, False: 0})\n",
    "quebec_df.require_guest_profile_picture = quebec_df.require_guest_profile_picture.replace({True: 1, False: 0})\n",
    "quebec_df.require_guest_phone_verification = quebec_df.require_guest_phone_verification.replace({True: 1, False: 0})"
   ]
  },
  {
   "cell_type": "code",
   "execution_count": 10,
   "metadata": {},
   "outputs": [],
   "source": [
    "#making sure that the datatypes oot converted properly\n",
    "assert quebec_df.dtypes.price == 'float64',  \"price string to float conversion did not convert properly\"\n",
    "assert quebec_df.dtypes.host_response_rate == 'float64', \"host_reponse_rate string to float did not convert properly\"\n",
    "assert quebec_df.dtypes.host_is_superhost == 'int64', \"host_is_superhost boolean to number did not convert properly\""
   ]
  },
  {
   "cell_type": "code",
   "execution_count": 11,
   "metadata": {},
   "outputs": [],
   "source": [
    "#assigning categorical and numeric features\n",
    "categorical_features = ['host_response_time', 'property_type', 'room_type', 'bed_type']\n",
    "numeric_features = ['host_response_rate', 'host_is_superhost', 'host_listings_count', 'host_has_profile_pic', 'host_identity_verified', 'latitude', 'longitude', 'is_location_exact', 'accommodates', 'bathrooms', 'bedrooms', 'beds', 'guests_included', 'extra_people', 'minimum_nights', 'maximum_nights', 'has_availability', 'availability_30', 'availability_60', 'availability_90', 'availability_365', 'number_of_reviews', 'number_of_reviews_ltm', 'review_scores_rating', 'review_scores_accuracy', 'review_scores_cleanliness', 'review_scores_checkin', 'review_scores_communication', 'review_scores_location', 'review_scores_value', 'requires_license', 'instant_bookable', 'is_business_travel_ready', 'require_guest_profile_picture', 'require_guest_phone_verification', 'calculated_host_listings_count', 'calculated_host_listings_count_entire_homes', 'calculated_host_listings_count_private_rooms', 'calculated_host_listings_count_shared_rooms', 'reviews_per_month']"
   ]
  },
  {
   "cell_type": "code",
   "execution_count": 12,
   "metadata": {},
   "outputs": [],
   "source": [
    "#preprocessing data with StandardScaler (numeric) and OneHotEncoder (categorical)\n",
    "preprocessor = ColumnTransformer(\n",
    "transformers=[\n",
    "    ('scale', StandardScaler(), numeric_features),\n",
    "    ('ohe', OneHotEncoder(handle_unknown= 'ignore'), categorical_features)\n",
    "])"
   ]
  },
  {
   "cell_type": "code",
   "execution_count": 13,
   "metadata": {},
   "outputs": [],
   "source": [
    "#making an 80-20 train-test split\n",
    "X = quebec_df.drop(columns = ['price'])\n",
    "y = quebec_df[['price']]\n",
    "X_train, X_test, y_train, y_test = train_test_split(X, y, test_size = 0.2)"
   ]
  },
  {
   "cell_type": "code",
   "execution_count": 14,
   "metadata": {},
   "outputs": [],
   "source": [
    "#making sure split sizes are correct\n",
    "assert X_train.shape[1] == 44, \"X_train did not split properly\"\n",
    "assert y_train.shape[1] == 1, \"y_train did not split properly\""
   ]
  },
  {
   "cell_type": "code",
   "execution_count": 15,
   "metadata": {},
   "outputs": [],
   "source": [
    "#transforming data\n",
    "X_train = pd.DataFrame(preprocessor.fit_transform(X_train), index=X_train.index, columns = (numeric_features + list(preprocessor.named_transformers_['ohe'].get_feature_names(categorical_features))))\n",
    "\n",
    "X_test = pd.DataFrame(preprocessor.transform(X_test), index=X_test.index, columns=X_train.columns)"
   ]
  }
 ],
 "metadata": {
  "kernelspec": {
   "display_name": "Python 3",
   "language": "python",
   "name": "python3"
  },
  "language_info": {
   "codemirror_mode": {
    "name": "ipython",
    "version": 3
   },
   "file_extension": ".py",
   "mimetype": "text/x-python",
   "name": "python",
   "nbconvert_exporter": "python",
   "pygments_lexer": "ipython3",
   "version": "3.7.3"
  }
 },
 "nbformat": 4,
 "nbformat_minor": 4
}
